{
 "cells": [
  {
   "cell_type": "markdown",
   "metadata": {},
   "source": [
    "# Задание 2. Вариант 5.\n",
    "Раскрой материала\n",
    "На складе имеется 110 листов материала размером 100 см * 100 см и деловые отходы вида \n",
    "\n",
    "waste_figure\n",
    "\n",
    "в количестве 50 штук.\n",
    "В цех поступил заказ на изготовление деталей следующих форм:\n",
    "\n",
    "1) невыпуклая фигура штук\n",
    "\n",
    "2) квадрат 30 см * 30 см штук\n",
    "\n",
    "3) круг радиусом 20 см штук\n",
    "\n",
    "4) невыпуклая фигура из двух прямоугольников штук\n",
    "\n",
    "5) невыпуклая фигура из двух прямоугольников штук"
   ]
  },
  {
   "cell_type": "code",
   "execution_count": 122,
   "metadata": {},
   "outputs": [],
   "source": [
    "import numpy as np\n",
    "scale_multiplier = 1\n",
    "\n",
    "material_figure = np.zeros((100*scale_multiplier, 100*scale_multiplier))\n",
    "# material_figure"
   ]
  },
  {
   "cell_type": "code",
   "execution_count": 2,
   "metadata": {},
   "outputs": [
    {
     "data": {
      "text/plain": [
       "<matplotlib.image.AxesImage at 0x7fa23356ca30>"
      ]
     },
     "execution_count": 2,
     "metadata": {},
     "output_type": "execute_result"
    },
    {
     "data": {
      "image/png": "[encoded data removed]",
      "text/plain": [
       "<Figure size 432x288 with 1 Axes>"
      ]
     },
     "metadata": {
      "needs_background": "light"
     },
     "output_type": "display_data"
    }
   ],
   "source": [
    "import matplotlib.pyplot as plt\n",
    "plt.imshow(material_figure)"
   ]
  },
  {
   "cell_type": "code",
   "execution_count": 3,
   "metadata": {},
   "outputs": [
    {
     "data": {
      "text/plain": [
       "<matplotlib.image.AxesImage at 0x7fa233469580>"
      ]
     },
     "execution_count": 3,
     "metadata": {},
     "output_type": "execute_result"
    },
    {
     "data": {
      "image/png": "[encoded data removed]",
      "text/plain": [
       "<Figure size 432x288 with 1 Axes>"
      ]
     },
     "metadata": {
      "needs_background": "light"
     },
     "output_type": "display_data"
    }
   ],
   "source": [
    "waste_figure = np.zeros((100*scale_multiplier, 100*scale_multiplier))\n",
    "for i in range(0, 20*scale_multiplier):\n",
    "    for j in range(80*scale_multiplier+i, 100*scale_multiplier):\n",
    "        waste_figure[i,j] = 1\n",
    "plt.imshow(waste_figure)"
   ]
  },
  {
   "cell_type": "code",
   "execution_count": 4,
   "metadata": {},
   "outputs": [
    {
     "data": {
      "text/plain": [
       "<matplotlib.image.AxesImage at 0x7fa23344ca30>"
      ]
     },
     "execution_count": 4,
     "metadata": {},
     "output_type": "execute_result"
    },
    {
     "data": {
      "image/png": "[encoded data removed]",
      "text/plain": [
       "<Figure size 432x288 with 1 Axes>"
      ]
     },
     "metadata": {
      "needs_background": "light"
     },
     "output_type": "display_data"
    }
   ],
   "source": [
    "figure_1 = np.ones((30*scale_multiplier, 80*scale_multiplier))\n",
    "for i in range(30*scale_multiplier, 40*scale_multiplier):\n",
    "    for j in range(1, i-30*scale_multiplier+2):\n",
    "        figure_1[-j, i] = 0\n",
    "for i in range(40*scale_multiplier, 50*scale_multiplier):\n",
    "    for j in range(1, 50*scale_multiplier+1-i):\n",
    "        figure_1[-j, i] = 0\n",
    "plt.imshow(figure_1)"
   ]
  },
  {
   "cell_type": "code",
   "execution_count": 5,
   "metadata": {},
   "outputs": [
    {
     "data": {
      "text/plain": [
       "<matplotlib.image.AxesImage at 0x7fa2333ae6a0>"
      ]
     },
     "execution_count": 5,
     "metadata": {},
     "output_type": "execute_result"
    },
    {
     "data": {
      "image/png": "[encoded data removed]",
      "text/plain": [
       "<Figure size 432x288 with 1 Axes>"
      ]
     },
     "metadata": {
      "needs_background": "light"
     },
     "output_type": "display_data"
    }
   ],
   "source": [
    "figure_2 = np.ones((30*scale_multiplier, 30*scale_multiplier))\n",
    "plt.imshow(figure_2)"
   ]
  },
  {
   "cell_type": "code",
   "execution_count": 6,
   "metadata": {},
   "outputs": [
    {
     "data": {
      "text/plain": [
       "<matplotlib.image.AxesImage at 0x7fa233320370>"
      ]
     },
     "execution_count": 6,
     "metadata": {},
     "output_type": "execute_result"
    },
    {
     "data": {
      "image/png": "[encoded data removed]",
      "text/plain": [
       "<Figure size 432x288 with 1 Axes>"
      ]
     },
     "metadata": {
      "needs_background": "light"
     },
     "output_type": "display_data"
    }
   ],
   "source": [
    "figure_3 = np.zeros((40*scale_multiplier, 40*scale_multiplier))\n",
    "for i in range(40*scale_multiplier):\n",
    "    for j in range(40*scale_multiplier):\n",
    "        if (i-20*scale_multiplier)**2+(j-20*scale_multiplier)**2<=(20*scale_multiplier)**2:\n",
    "            figure_3[i, j] = 1\n",
    "plt.imshow(figure_3)"
   ]
  },
  {
   "cell_type": "code",
   "execution_count": 7,
   "metadata": {},
   "outputs": [
    {
     "data": {
      "text/plain": [
       "<matplotlib.image.AxesImage at 0x7fa2332f5b80>"
      ]
     },
     "execution_count": 7,
     "metadata": {},
     "output_type": "execute_result"
    },
    {
     "data": {
      "image/png": "[encoded data removed]",
      "text/plain": [
       "<Figure size 432x288 with 1 Axes>"
      ]
     },
     "metadata": {
      "needs_background": "light"
     },
     "output_type": "display_data"
    }
   ],
   "source": [
    "figure_4 = np.ones((40*scale_multiplier, 70*scale_multiplier))\n",
    "for i in range(20*scale_multiplier):\n",
    "    for j in range(40*scale_multiplier):\n",
    "        figure_4[i, j] = 0\n",
    "plt.imshow(figure_4)"
   ]
  },
  {
   "cell_type": "code",
   "execution_count": 8,
   "metadata": {},
   "outputs": [
    {
     "data": {
      "text/plain": [
       "<matplotlib.image.AxesImage at 0x7fa233273f70>"
      ]
     },
     "execution_count": 8,
     "metadata": {},
     "output_type": "execute_result"
    },
    {
     "data": {
      "image/png": "[encoded data removed]",
      "text/plain": [
       "<Figure size 432x288 with 1 Axes>"
      ]
     },
     "metadata": {
      "needs_background": "light"
     },
     "output_type": "display_data"
    }
   ],
   "source": [
    "figure_5 = np.ones((60*scale_multiplier, 50*scale_multiplier))\n",
    "for i in range(20*scale_multiplier):\n",
    "    for j in range(30*scale_multiplier):\n",
    "        figure_5[i, j] = 0\n",
    "for i in range(20*scale_multiplier+1):\n",
    "    for j in range(30*scale_multiplier):\n",
    "        figure_5[-i, j] = 0\n",
    "plt.imshow(figure_5)"
   ]
  },
  {
   "cell_type": "code",
   "execution_count": 10,
   "metadata": {},
   "outputs": [],
   "source": [
    "available_material_figures = [material_figure, waste_figure]\n",
    "requested_figures = [figure_1, figure_2, figure_3, figure_4, figure_5]"
   ]
  },
  {
   "cell_type": "code",
   "execution_count": 11,
   "metadata": {},
   "outputs": [],
   "source": [
    "from scipy import ndimage\n",
    "# plt.imshow(ndimage.rotate(figure_5, 30), interpolation='none')"
   ]
  },
  {
   "cell_type": "code",
   "execution_count": 12,
   "metadata": {},
   "outputs": [],
   "source": [
    "import itertools\n",
    "def fit_figure_in_the_container(container, figure, k):\n",
    "    figure_mask = figure>0\n",
    "    fit_y = 0\n",
    "    fit_x = -1\n",
    "    start_y = 0\n",
    "    for start_x, start_y in itertools.product(range(container.shape[1]), range(container.shape[0])):\n",
    "#         print(start_y, container[start_y : start_y + figure.shape[0], start_x: start_x + figure.shape[1]].shape)\n",
    "        if start_y + figure.shape[0]>len(container) or start_x + figure.shape[1] > len(container[0]):\n",
    "            continue\n",
    "        if np.sum(container[start_y : start_y + figure.shape[0], start_x: start_x + figure.shape[1]][figure_mask]) == 0 :\n",
    "            container[start_y : start_y + figure.shape[0], start_x: start_x + figure.shape[1]][figure_mask] = figure[figure_mask][0]*k\n",
    "            fit_x = start_x\n",
    "            fit_y = start_y\n",
    "            break\n",
    "    if fit_x >= 0:  \n",
    "        return container, True\n",
    "        \n",
    "    \n",
    "    return container, False\n"
   ]
  },
  {
   "cell_type": "code",
   "execution_count": 96,
   "metadata": {},
   "outputs": [],
   "source": [
    "def rotate(figure, deg):\n",
    "    r = ndimage.rotate(figure, deg)\n",
    "    r[np.abs(r) < 0.1] = 0\n",
    "    return r"
   ]
  },
  {
   "cell_type": "code",
   "execution_count": 119,
   "metadata": {},
   "outputs": [],
   "source": [
    "def calc_1(fig_num):\n",
    "    container = np.copy(available_material_figures[0])\n",
    "    image_count = np.zeros(5)\n",
    "\n",
    "    k = 2\n",
    "    for fig_idx, rot in zip([0, 3, 4, 2, 1], [True, True, True, False, False]):\n",
    "        for _ in range(fig_num[fig_idx]):\n",
    "            container, status = fit_figure_in_the_container(container, requested_figures[fig_idx], k)\n",
    "            if status:\n",
    "                image_count[fig_idx]+=1\n",
    "                k+=1\n",
    "                continue\n",
    "            #not status\n",
    "            if rot:\n",
    "                st = False\n",
    "                for deg in [90, 180, 270]:\n",
    "                    container, st = fit_figure_in_the_container(container, rotate(requested_figures[fig_idx], deg), k)\n",
    "                    if st:\n",
    "                        image_count[fig_idx]+=1\n",
    "                        k+=1\n",
    "                        break\n",
    "                else:\n",
    "#                     images[image_id]=container\n",
    "#                     image_id+=1\n",
    "                    break\n",
    "            else:\n",
    "#                 images[image_id]=container\n",
    "#                 image_id+=1\n",
    "                break\n",
    "\n",
    "    return container, image_count\n",
    "\n",
    "def calc_2(fig_num):\n",
    "    container = np.copy(available_material_figures[1])\n",
    "    image_count = np.zeros(5)\n",
    "\n",
    "    k = 2\n",
    "    for fig_idx, rot in zip([0, 3, 4, 2, 1], [True, True, True, False, False]):\n",
    "        for _ in range(fig_num[fig_idx]):\n",
    "            container, status = fit_figure_in_the_container(container, requested_figures[fig_idx], k)\n",
    "            if status:\n",
    "                image_count[fig_idx]+=1\n",
    "                k+=1\n",
    "                continue\n",
    "            #not status\n",
    "            if rot:\n",
    "                st = False\n",
    "                for deg in [90, 180, 270]:\n",
    "                    container, st = fit_figure_in_the_container(container, rotate(requested_figures[fig_idx], deg), k)\n",
    "                    if st:\n",
    "                        image_count[fig_idx]+=1\n",
    "                        k+=1\n",
    "                        break\n",
    "                else:\n",
    "#                     images[image_id]=container\n",
    "#                     image_id+=1\n",
    "                    break\n",
    "            else:\n",
    "#                 images[image_id]=container\n",
    "#                 image_id+=1\n",
    "                break\n",
    "\n",
    "    return container, image_count"
   ]
  },
  {
   "cell_type": "code",
   "execution_count": 15,
   "metadata": {},
   "outputs": [],
   "source": [
    "# from tqdm.notebook import tqdm\n",
    "\n",
    "\n",
    "# combinations = list(itertools.product(range(4), range(10), range(6), range(6), range(6)))\n",
    "# images = np.zeros((len(combinations), 100, 100))\n",
    "# image_count = np.zeros((len(combinations), 5))\n",
    "# image_id = 0\n",
    "# for fig_num in tqdm(combinations):\n",
    "#     container = np.copy(available_material_figures[0])\n",
    "    \n",
    "#     k = 2\n",
    "#     for fig_idx, rot in zip([0, 3, 4, 2, 1], [True, True, True, False, False]):\n",
    "#         for _ in range(fig_num[fig_idx]):\n",
    "#             container, status = fit_figure_in_the_container(container, requested_figures[fig_idx], k)\n",
    "#             if status:\n",
    "#                 image_count[image_id][fig_idx]+=1\n",
    "#                 k+=1\n",
    "#                 continue\n",
    "#             #not status\n",
    "#             if rot:\n",
    "#                 st = False\n",
    "#                 for deg in [90, 180, 270]:\n",
    "#                     container, st = fit_figure_in_the_container(container, rotate(requested_figures[fig_idx], deg), k)\n",
    "#                     if st:\n",
    "#                         image_count[image_id][fig_idx]+=1\n",
    "#                         k+=1\n",
    "#                         break\n",
    "#                 else:\n",
    "# #                     images[image_id]=container\n",
    "# #                     image_id+=1\n",
    "#                     break\n",
    "#             else:\n",
    "# #                 images[image_id]=container\n",
    "# #                 image_id+=1\n",
    "#                 break\n",
    "\n",
    "#     images[image_id]=container\n",
    "#     image_id+=1"
   ]
  },
  {
   "cell_type": "code",
   "execution_count": 16,
   "metadata": {},
   "outputs": [
    {
     "data": {
      "application/vnd.jupyter.widget-view+json": {
       "model_id": "ef2ef4559ee54852a9583ac5876b3c29",
       "version_major": 2,
       "version_minor": 0
      },
      "text/plain": [
       "HBox(children=(FloatProgress(value=0.0, description='SUBMITTING | ', max=8640.0, style=ProgressStyle(descripti…"
      ]
     },
     "metadata": {},
     "output_type": "display_data"
    },
    {
     "name": "stdout",
     "output_type": "stream",
     "text": [
      "\n"
     ]
    },
    {
     "data": {
      "application/vnd.jupyter.widget-view+json": {
       "model_id": "23bb0fefce5742d19e03061570405ecf",
       "version_major": 2,
       "version_minor": 0
      },
      "text/plain": [
       "HBox(children=(FloatProgress(value=0.0, description='PROCESSING | ', max=8640.0, style=ProgressStyle(descripti…"
      ]
     },
     "metadata": {},
     "output_type": "display_data"
    },
    {
     "name": "stdout",
     "output_type": "stream",
     "text": [
      "\n"
     ]
    },
    {
     "data": {
      "application/vnd.jupyter.widget-view+json": {
       "model_id": "d9cdce27547e4c2080e856ac0410702a",
       "version_major": 2,
       "version_minor": 0
      },
      "text/plain": [
       "HBox(children=(FloatProgress(value=0.0, description='COLLECTING | ', max=8640.0, style=ProgressStyle(descripti…"
      ]
     },
     "metadata": {},
     "output_type": "display_data"
    },
    {
     "name": "stdout",
     "output_type": "stream",
     "text": [
      "\n"
     ]
    }
   ],
   "source": [
    "from pqdm.processes import pqdm\n",
    "combinations = list(itertools.product(range(4), range(10), range(6), range(6), range(6)))\n",
    "res = pqdm(combinations, calc_1, n_jobs=10)"
   ]
  },
  {
   "cell_type": "code",
   "execution_count": 17,
   "metadata": {},
   "outputs": [],
   "source": [
    "image_count = np.array(res)[:, 1]\n",
    "images = np.array(res)[:, 0]"
   ]
  },
  {
   "cell_type": "code",
   "execution_count": 74,
   "metadata": {},
   "outputs": [],
   "source": [
    "np.save('images.npy', images)\n",
    "np.save('image_count.npy', image_count)"
   ]
  },
  {
   "cell_type": "code",
   "execution_count": 21,
   "metadata": {},
   "outputs": [],
   "source": [
    "images = np.load('images.npy', allow_pickle=True)\n",
    "image_count = np.load('image_count.npy', allow_pickle=True)"
   ]
  },
  {
   "cell_type": "code",
   "execution_count": 22,
   "metadata": {},
   "outputs": [],
   "source": [
    "images = np.stack(images, axis=0)\n",
    "image_count = np.stack(image_count, axis=0)"
   ]
  },
  {
   "cell_type": "code",
   "execution_count": 37,
   "metadata": {},
   "outputs": [
    {
     "data": {
      "text/plain": [
       "<matplotlib.image.AxesImage at 0x7fa2616e3700>"
      ]
     },
     "execution_count": 37,
     "metadata": {},
     "output_type": "execute_result"
    },
    {
     "data": {
      "image/png": "[encoded data removed]",
      "text/plain": [
       "<Figure size 432x288 with 1 Axes>"
      ]
     },
     "metadata": {
      "needs_background": "light"
     },
     "output_type": "display_data"
    }
   ],
   "source": [
    "r = ndimage.rotate(figure_5, 180)\n",
    "r[np.abs(r) < 0.1] = 0\n",
    "c = np.copy(available_material_figures[1])\n",
    "fit_figure_in_the_container(c, figure_5, 2)\n",
    "fit_figure_in_the_container(c, r, 3)\n",
    "fit_figure_in_the_container(c, r, 4)\n",
    "fit_figure_in_the_container(c, figure_5, 5)\n",
    "plt.imshow(c)\n",
    "\n",
    "w_images = np.append(w_images, [c], axis = 0)\n",
    "w_image_count = np.row_stack((w_image_count, [0,0,0,0,4]))\n",
    "c[c==1] = 0\n",
    "images = np.append(images, [c], axis = 0)\n",
    "image_count = np.row_stack((image_count, [0,0,0,0,4]))"
   ]
  },
  {
   "cell_type": "code",
   "execution_count": 100,
   "metadata": {},
   "outputs": [
    {
     "data": {
      "image/png": "[encoded data removed]",
      "text/plain": [
       "<Figure size 432x288 with 1 Axes>"
      ]
     },
     "metadata": {
      "needs_background": "light"
     },
     "output_type": "display_data"
    }
   ],
   "source": [
    "c = np.copy(available_material_figures[0])\n",
    "fit_figure_in_the_container(c, rotate(figure_4, 180), 2)\n",
    "fit_figure_in_the_container(c, rotate(figure_4, 180), 3)\n",
    "fit_figure_in_the_container(c, figure_4, 4)\n",
    "fit_figure_in_the_container(c, figure_4, 5)\n",
    "\n",
    "plt.imshow(c)\n",
    "\n",
    "w_images = np.append(w_images, [c], axis = 0)\n",
    "w_image_count = np.row_stack((w_image_count, [0,0,0,4,0]))\n",
    "c[c==1] = 0\n",
    "images = np.append(images, [c], axis = 0)\n",
    "image_count = np.row_stack((image_count, [0,0,0,4,0]))"
   ]
  },
  {
   "cell_type": "code",
   "execution_count": 102,
   "metadata": {},
   "outputs": [
    {
     "data": {
      "image/png": "[encoded data removed]",
      "text/plain": [
       "<Figure size 432x288 with 1 Axes>"
      ]
     },
     "metadata": {
      "needs_background": "light"
     },
     "output_type": "display_data"
    }
   ],
   "source": [
    "fit_figure_in_the_container(c, figure_2, 6)\n",
    "fit_figure_in_the_container(c, figure_2, 7)\n",
    "\n",
    "plt.imshow(c)\n",
    "\n",
    "images = np.append(images, [c], axis = 0)\n",
    "image_count = np.row_stack((image_count, [0,2,0,4,0]))\n",
    "\n",
    "c[c==7] = 0\n",
    "\n",
    "w_images = np.append(w_images, [c], axis = 0)\n",
    "w_image_count = np.row_stack((w_image_count, [0,1,0,4,0]))\n"
   ]
  },
  {
   "cell_type": "code",
   "execution_count": 103,
   "metadata": {},
   "outputs": [],
   "source": [
    "unique_combinations = np.unique(image_count, axis=0)\n",
    "unique_combinations = np.array(unique_combinations, dtype = int)"
   ]
  },
  {
   "cell_type": "code",
   "execution_count": 25,
   "metadata": {},
   "outputs": [
    {
     "data": {
      "application/vnd.jupyter.widget-view+json": {
       "model_id": "66681de8e9f5450c81bc9ddfbf9d852c",
       "version_major": 2,
       "version_minor": 0
      },
      "text/plain": [
       "HBox(children=(FloatProgress(value=0.0, description='SUBMITTING | ', max=8640.0, style=ProgressStyle(descripti…"
      ]
     },
     "metadata": {},
     "output_type": "display_data"
    },
    {
     "name": "stdout",
     "output_type": "stream",
     "text": [
      "\n"
     ]
    },
    {
     "data": {
      "application/vnd.jupyter.widget-view+json": {
       "model_id": "cb9a6abbded8400d988bef69f0632d79",
       "version_major": 2,
       "version_minor": 0
      },
      "text/plain": [
       "HBox(children=(FloatProgress(value=0.0, description='PROCESSING | ', max=8640.0, style=ProgressStyle(descripti…"
      ]
     },
     "metadata": {},
     "output_type": "display_data"
    },
    {
     "name": "stdout",
     "output_type": "stream",
     "text": [
      "\n"
     ]
    },
    {
     "data": {
      "application/vnd.jupyter.widget-view+json": {
       "model_id": "c8223108e8b3472f9eb8d80513e52b75",
       "version_major": 2,
       "version_minor": 0
      },
      "text/plain": [
       "HBox(children=(FloatProgress(value=0.0, description='COLLECTING | ', max=8640.0, style=ProgressStyle(descripti…"
      ]
     },
     "metadata": {},
     "output_type": "display_data"
    },
    {
     "name": "stdout",
     "output_type": "stream",
     "text": [
      "\n"
     ]
    }
   ],
   "source": [
    "res_w = pqdm(combinations, calc_2, n_jobs=10)"
   ]
  },
  {
   "cell_type": "code",
   "execution_count": 104,
   "metadata": {},
   "outputs": [],
   "source": [
    "w_image_count = np.array(res_w)[:, 1]\n",
    "w_images = np.array(res_w)[:, 0]\n",
    "\n",
    "w_images = np.stack(w_images, axis=0)\n",
    "w_image_count = np.stack(w_image_count, axis=0)\n",
    "w_unique_combinations = np.unique(w_image_count, axis=0)\n",
    "w_unique_combinations = np.array(w_unique_combinations, dtype = int)"
   ]
  },
  {
   "cell_type": "code",
   "execution_count": 73,
   "metadata": {},
   "outputs": [],
   "source": [
    "np.save('w_images.npy', w_images)\n",
    "np.save('w_image_count.npy', w_image_count)"
   ]
  },
  {
   "cell_type": "code",
   "execution_count": 29,
   "metadata": {},
   "outputs": [
    {
     "data": {
      "text/plain": [
       "<matplotlib.image.AxesImage at 0x7fa26d14b430>"
      ]
     },
     "execution_count": 29,
     "metadata": {},
     "output_type": "execute_result"
    },
    {
     "data": {
      "image/png": "[encoded data removed]",
      "text/plain": [
       "<Figure size 432x288 with 1 Axes>"
      ]
     },
     "metadata": {
      "needs_background": "light"
     },
     "output_type": "display_data"
    }
   ],
   "source": [
    "plt.imshow(w_images[100])"
   ]
  },
  {
   "cell_type": "code",
   "execution_count": 105,
   "metadata": {},
   "outputs": [],
   "source": [
    "import gurobipy as gp\n",
    "from gurobipy import GRB"
   ]
  },
  {
   "cell_type": "code",
   "execution_count": 106,
   "metadata": {},
   "outputs": [],
   "source": [
    "#введем переменную \n",
    "#x_i - сколько паттернов i для целого листа было выбрано\n",
    "#y_i - сколько паттернов i для листа отхода было выбрано\n",
    "\n",
    "waste_lists_num = 50\n",
    "model = gp.Model()\n",
    "\n",
    "x_num = len(unique_combinations)\n",
    "y_num = len(w_unique_combinations)\n",
    "x = model.addVars(x_num, name='x', vtype=GRB.INTEGER)\n",
    "y = model.addVars(y_num, name='y', vtype=GRB.INTEGER)\n",
    "\n",
    "fig_order = [666, 450, 777, 1200, 700]\n",
    "\n",
    "model.addConstrs((fig_order[i] == sum([(x[j] * unique_combinations[j][i]) for j in range(x_num)]) \n",
    "                  + sum([(y[j] * w_unique_combinations[j][i]) for j in range(y_num)]) for i in range(5)), name='each order completed')\n",
    "model.addConstr(y.sum() <= waste_lists_num)\n",
    "\n",
    "model.setObjective(x.sum(), GRB.MINIMIZE)\n",
    "model.update()\n",
    "\n",
    "# model.display()"
   ]
  },
  {
   "cell_type": "code",
   "execution_count": 107,
   "metadata": {},
   "outputs": [
    {
     "name": "stdout",
     "output_type": "stream",
     "text": [
      "Gurobi Optimizer version 9.1.2 build v9.1.2rc0 (linux64)\n",
      "Thread count: 10 physical cores, 20 logical processors, using up to 20 threads\n",
      "Optimize a model with 6 rows, 262 columns and 692 nonzeros\n",
      "Model fingerprint: 0xc92a1397\n",
      "Variable types: 0 continuous, 262 integer (0 binary)\n",
      "Coefficient statistics:\n",
      "  Matrix range     [1e+00, 9e+00]\n",
      "  Objective range  [1e+00, 1e+00]\n",
      "  Bounds range     [0e+00, 0e+00]\n",
      "  RHS range        [5e+01, 1e+03]\n",
      "Found heuristic solution: objective 3793.0000000\n",
      "Presolve removed 0 rows and 2 columns\n",
      "Presolve time: 0.00s\n",
      "Presolved: 6 rows, 260 columns, 691 nonzeros\n",
      "Variable types: 0 continuous, 260 integer (0 binary)\n",
      "\n",
      "Root relaxation: objective 7.857500e+02, 21 iterations, 0.00 seconds\n",
      "\n",
      "    Nodes    |    Current Node    |     Objective Bounds      |     Work\n",
      " Expl Unexpl |  Obj  Depth IntInf | Incumbent    BestBd   Gap | It/Node Time\n",
      "\n",
      "     0     0  785.75000    0    1 3793.00000  785.75000  79.3%     -    0s\n",
      "H    0     0                     786.0000000  785.75000  0.03%     -    0s\n",
      "     0     0  785.75000    0    1  786.00000  785.75000  0.03%     -    0s\n",
      "\n",
      "Explored 1 nodes (21 simplex iterations) in 0.02 seconds\n",
      "Thread count was 20 (of 20 available processors)\n",
      "\n",
      "Solution count 2: 786 3793 \n",
      "\n",
      "Optimal solution found (tolerance 1.00e-04)\n",
      "Best objective 7.860000000000e+02, best bound 7.860000000000e+02, gap 0.0000%\n"
     ]
    }
   ],
   "source": [
    "model.optimize()"
   ]
  },
  {
   "cell_type": "code",
   "execution_count": 109,
   "metadata": {},
   "outputs": [
    {
     "name": "stdout",
     "output_type": "stream",
     "text": [
      "98.0 8640\n",
      "100.0 8641\n",
      "1.0 108\n",
      "79.0 144\n",
      "200.0 8642\n",
      "308.0 4357\n",
      "wastes:\n",
      "50.0 2484\n"
     ]
    }
   ],
   "source": [
    "a = model.getVars()\n",
    "for i in range(x_num):\n",
    "    if a[i].X>0:\n",
    "        for idx in range(len(image_count)):\n",
    "            if np.array_equal(image_count[idx], unique_combinations[i]):\n",
    "                print(a[i].X, idx)\n",
    "                break\n",
    "    \n",
    "print('wastes:')\n",
    "for i in range(y_num):\n",
    "    if a[i+x_num].X>0:\n",
    "        for idx in range(len(w_image_count)):\n",
    "            if np.array_equal(w_image_count[idx], w_unique_combinations[i]):\n",
    "                print(a[i+x_num].X, idx)\n",
    "                break"
   ]
  },
  {
   "cell_type": "code",
   "execution_count": 117,
   "metadata": {},
   "outputs": [
    {
     "data": {
      "text/plain": [
       "<matplotlib.image.AxesImage at 0x7fa25ebe9ac0>"
      ]
     },
     "execution_count": 117,
     "metadata": {},
     "output_type": "execute_result"
    },
    {
     "data": {
      "image/png": "[encoded data removed]",
      "text/plain": [
       "<Figure size 432x288 with 1 Axes>"
      ]
     },
     "metadata": {
      "needs_background": "light"
     },
     "output_type": "display_data"
    }
   ],
   "source": [
    "plt.imshow(w_images[2484])"
   ]
  },
  {
   "cell_type": "code",
   "execution_count": null,
   "metadata": {},
   "outputs": [],
   "source": []
  }
 ],
 "metadata": {
  "kernelspec": {
   "display_name": "Python 3",
   "language": "python",
   "name": "python3"
  },
  "language_info": {
   "codemirror_mode": {
    "name": "ipython",
    "version": 3
   },
   "file_extension": ".py",
   "mimetype": "text/x-python",
   "name": "python",
   "nbconvert_exporter": "python",
   "pygments_lexer": "ipython3",
   "version": "3.8.10"
  }
 },
 "nbformat": 4,
 "nbformat_minor": 4
}
